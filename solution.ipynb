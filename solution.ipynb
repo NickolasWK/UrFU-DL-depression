{
 "cells": [
  {
   "metadata": {},
   "cell_type": "markdown",
   "source": "## Импорт библиотек",
   "id": "ce52aad8e5817052"
  },
  {
   "metadata": {
    "ExecuteTime": {
     "end_time": "2025-07-16T07:00:54.172058Z",
     "start_time": "2025-07-16T07:00:47.934284Z"
    }
   },
   "cell_type": "code",
   "source": [
    "import numpy as np\n",
    "import pandas as pd\n",
    "from sklearn.model_selection import train_test_split\n",
    "import neattext.functions as nfx\n",
    "import matplotlib.pyplot as plt\n",
    "from sklearn.metrics import classification_report, accuracy_score, precision_score, recall_score, f1_score\n",
    "from sklearn.preprocessing import LabelEncoder\n",
    "from tqdm import tqdm\n",
    "import pickle\n",
    "import torch\n",
    "import torch.nn as nn\n",
    "from torch.utils.data import DataLoader, TensorDataset\n",
    "from torch.optim import AdamW\n",
    "from collections import Counter\n"
   ],
   "id": "768504332ed50586",
   "outputs": [],
   "execution_count": 2
  },
  {
   "metadata": {},
   "cell_type": "markdown",
   "source": "## Основные классы и функции - токенизатор, классификатор и др.",
   "id": "3a10f79918b5aeb8"
  },
  {
   "metadata": {
    "ExecuteTime": {
     "end_time": "2025-07-16T07:00:54.233216Z",
     "start_time": "2025-07-16T07:00:54.219395Z"
    }
   },
   "cell_type": "code",
   "source": [
    "class TextClassifier(nn.Module):\n",
    "    def __init__(self, vocab_size, embedding_dim, hidden_dim, output_dim, embedding_weights=None, trainable_embeddings=False):\n",
    "        super().__init__()\n",
    "\n",
    "        if embedding_weights is not None:\n",
    "            self.embedding = nn.Embedding.from_pretrained(embedding_weights, freeze=not trainable_embeddings)\n",
    "        else:\n",
    "            self.embedding = nn.Embedding(vocab_size, embedding_dim)\n",
    "        # Применяем многослойную реккурентную нейросеть с долговременной краткосрочной памятью\n",
    "        self.lstm = nn.LSTM(embedding_dim, hidden_dim, batch_first=True)\n",
    "        self.fc1 = nn.Linear(hidden_dim, 256)\n",
    "        self.relu = nn.ReLU() # Активация ReLU\n",
    "        self.fc2 = nn.Linear(256, output_dim)\n",
    "        self.sigmoid = nn.Sigmoid()\n",
    "\n",
    "    def forward(self, text):\n",
    "        embedded = self.embedding(text)\n",
    "        lstm_out, (hidden, cell) = self.lstm(embedded)\n",
    "        pooled = torch.max(lstm_out, dim=1)[0]\n",
    "\n",
    "        fc1_out = self.relu(self.fc1(pooled))\n",
    "        output = self.sigmoid(self.fc2(fc1_out))\n",
    "\n",
    "        return output\n",
    "\n",
    "class PyTorchTokenizer:\n",
    "    def __init__(self, num_words=None):\n",
    "        self.word_counts = Counter()\n",
    "        self.word_index = {} # Слова в индексы\n",
    "        self.index_word = {} # Обратно - индексы в слова\n",
    "        self.num_words = num_words\n",
    "        self.oov_token = 1\n",
    "\n",
    "    def fit_on_texts(self, texts):\n",
    "        for text in texts:\n",
    "            for word in text.split():\n",
    "                self.word_counts[word] += 1\n",
    "\n",
    "        sorted_words = [word for word, _ in self.word_counts.most_common(self.num_words - 2 if self.num_words else None)]\n",
    "        self.word_index['<pad>'] = 0 # Служебный токен паддинг для выравнивания длины последовательности\n",
    "        self.word_index['<unk>'] = self.oov_token # Для слов вне обучающей выборки (Out of vocabulary)\n",
    "\n",
    "        idx = 2\n",
    "        for word in sorted_words:\n",
    "            self.word_index[word] = idx\n",
    "            idx += 1\n",
    "\n",
    "        self.index_word = {idx: word for word, idx in self.word_index.items()}\n",
    "\n",
    "    def texts_to_sequences(self, texts):\n",
    "        sequences = []\n",
    "        for text in texts:\n",
    "            seq = []\n",
    "            for word in text.split():\n",
    "                seq.append(self.word_index.get(word, self.oov_token))\n",
    "            sequences.append(seq)\n",
    "        return sequences\n",
    "\n",
    "# Функции для цикла обучения\n",
    "\n",
    "# Возвращает точность для бинарной классификации.\n",
    "def binary_accuracy(preds, y):\n",
    "    # Округляем до ближайшего целого (0 или 1)\n",
    "    rounded_preds = torch.round(preds)\n",
    "    correct = (rounded_preds == y).float()\n",
    "    acc = correct.sum() / len(correct)\n",
    "    return acc\n",
    "\n",
    "# Тренировка модели\n",
    "def train(model, loader, optimizer, criterion):\n",
    "    model.train() # Устанавливаем модель в режим обучения\n",
    "    epoch_loss = 0\n",
    "    epoch_acc = 0\n",
    "\n",
    "    for text, label in tqdm(loader, desc=\"Обучение\"):\n",
    "        optimizer.zero_grad() # Обнуляем градиенты\n",
    "\n",
    "        predictions = model(text).squeeze(1) # Делаем предсказания\n",
    "        loss = criterion(predictions, label.squeeze(1)) # Вычисляем потери\n",
    "        acc = binary_accuracy(predictions, label.squeeze(1)) # Вычисляем точность\n",
    "\n",
    "        loss.backward() # Обратное распространение\n",
    "        optimizer.step() # Обновление весов\n",
    "\n",
    "        epoch_loss += loss.item()\n",
    "        epoch_acc += acc.item()\n",
    "\n",
    "    return epoch_loss / len(loader), epoch_acc / len(loader)\n",
    "\n",
    "# Оценка эффективности модели\n",
    "def evaluate(model, loader, criterion):\n",
    "    model.eval() # Устанавливаем модель в режим оценки\n",
    "    epoch_loss = 0\n",
    "    epoch_acc = 0\n",
    "\n",
    "    with torch.no_grad(): # Отключаем расчет градиентов для оценки\n",
    "        for text, label in tqdm(loader, desc=\"Оценка\"):\n",
    "            predictions = model(text).squeeze(1)\n",
    "            loss = criterion(predictions, label.squeeze(1))\n",
    "            acc = binary_accuracy(predictions, label.squeeze(1))\n",
    "\n",
    "            epoch_loss += loss.item()\n",
    "            epoch_acc += acc.item()\n",
    "\n",
    "    return epoch_loss / len(loader), epoch_acc / len(loader)\n",
    "\n",
    "# Функция для очистки текста\n",
    "def clean_text(text_series):\n",
    "    text_length = []\n",
    "    cleaned_text = []\n",
    "    for sent in text_series:\n",
    "        sent = str(sent).lower()\n",
    "        sent = nfx.remove_special_characters(sent)\n",
    "        sent = nfx.remove_stopwords(sent)\n",
    "        text_length.append(len(sent.split()))\n",
    "        cleaned_text.append(sent)\n",
    "    return cleaned_text, text_length\n",
    "\n",
    "def plot_training_history(history):\n",
    "    \"\"\"Визуализирует историю обучения\"\"\"\n",
    "    fig, (ax1, ax2) = plt.subplots(1, 2, figsize=(12, 4))\n",
    "\n",
    "    ax1.plot(history['train_losses'], label='Train Loss')\n",
    "    ax1.plot(history['test_losses'], label='Test Loss')\n",
    "    ax1.set_title('Loss')\n",
    "    ax1.legend()\n",
    "\n",
    "    ax2.plot(history['train_accs'], label='Train Acc')\n",
    "    ax2.plot(history['test_accs'], label='Test Acc')\n",
    "    ax2.set_title('Accuracy')\n",
    "    ax2.legend()\n",
    "\n",
    "    plt.tight_layout()\n",
    "    plt.show()"
   ],
   "id": "728f4da14b51677e",
   "outputs": [],
   "execution_count": 3
  },
  {
   "metadata": {},
   "cell_type": "markdown",
   "source": "## Загрузка данных для обучения модели классификации, визуализация",
   "id": "854e7a1e41d6512d"
  },
  {
   "cell_type": "code",
   "id": "initial_id",
   "metadata": {
    "collapsed": true,
    "ExecuteTime": {
     "end_time": "2025-07-16T07:00:58.153676Z",
     "start_time": "2025-07-16T07:00:54.264179Z"
    }
   },
   "source": [
    "# Проверка наличия GPU\n",
    "DEVICE = torch.device(\"cuda\" if torch.cuda.is_available() else \"cpu\")\n",
    "print(f\"Используемое устройство: {DEVICE}\")\n",
    "\n",
    "#Загрузка данных\n",
    "data = pd.read_csv(\"Suicide_Detection.csv\")\n",
    "\n",
    "# Проверка распределения классов\n",
    "print(\"\\nРаспределение классов в исходных данных:\")\n",
    "print(data['class'].value_counts())\n",
    "\n",
    "# Разделение данных на обучающую и тестовую выборки\n",
    "train_data, test_data = train_test_split(data, test_size=0.2, random_state=10, stratify=data['class']) # Добавим stratify\n",
    "\n",
    "print(\"\\nРаспределение классов в обучающей выборке:\")\n",
    "print(train_data['class'].value_counts())\n",
    "\n",
    "# Визуализация распределения классов\n",
    "class_counts = train_data['class'].value_counts()\n",
    "\n",
    "fig, ax = plt.subplots()\n",
    "\n",
    "classes = class_counts.index.values\n",
    "counts = class_counts.values\n",
    "\n",
    "ax.bar(classes, counts, color=['g', 'r'])\n",
    "\n",
    "ax.set_ylabel(\"Число сообщений\")\n",
    "ax.set_title(\"Распределение классов в обучающей выборке\")\n",
    "\n",
    "plt.show()\n",
    "data.head(116037)"
   ],
   "outputs": [
    {
     "name": "stdout",
     "output_type": "stream",
     "text": [
      "Используемое устройство: cuda\n",
      "\n",
      "Распределение классов в исходных данных:\n",
      "class\n",
      "suicide        116037\n",
      "non-suicide    116037\n",
      "Name: count, dtype: int64\n",
      "\n",
      "Распределение классов в обучающей выборке:\n",
      "class\n",
      "non-suicide    92830\n",
      "suicide        92829\n",
      "Name: count, dtype: int64\n"
     ]
    },
    {
     "data": {
      "text/plain": [
       "<Figure size 640x480 with 1 Axes>"
      ],
      "image/png": "[encoded data removed]"
     },
     "metadata": {},
     "output_type": "display_data"
    },
    {
     "data": {
      "text/plain": [
       "        Unnamed: 0                                               text  \\\n",
       "0                2  Ex Wife Threatening SuicideRecently I left my ...   \n",
       "1                3  Am I weird I don't get affected by compliments...   \n",
       "2                4  Finally 2020 is almost over... So I can never ...   \n",
       "3                8          i need helpjust help me im crying so hard   \n",
       "4                9  I’m so lostHello, my name is Adam (16) and I’v...   \n",
       "...            ...                                                ...   \n",
       "116032      174354  Anyone wanna chat? Not sad or anything, just c...   \n",
       "116033      174355  I wish I was deadTW TW TW patriarchal dumpster...   \n",
       "116034      174356  I can't tell Am I depressed?\\n\\nAm I coming to...   \n",
       "116035      174357  Chat? Please help :/Been feeling really suicid...   \n",
       "116036      174358  I'm 16 and I feel like my girlfriend might be ...   \n",
       "\n",
       "              class  \n",
       "0           suicide  \n",
       "1       non-suicide  \n",
       "2       non-suicide  \n",
       "3           suicide  \n",
       "4           suicide  \n",
       "...             ...  \n",
       "116032  non-suicide  \n",
       "116033      suicide  \n",
       "116034  non-suicide  \n",
       "116035      suicide  \n",
       "116036      suicide  \n",
       "\n",
       "[116037 rows x 3 columns]"
      ],
      "text/html": [
       "<div>\n",
       "<style scoped>\n",
       "    .dataframe tbody tr th:only-of-type {\n",
       "        vertical-align: middle;\n",
       "    }\n",
       "\n",
       "    .dataframe tbody tr th {\n",
       "        vertical-align: top;\n",
       "    }\n",
       "\n",
       "    .dataframe thead th {\n",
       "        text-align: right;\n",
       "    }\n",
       "</style>\n",
       "<table border=\"1\" class=\"dataframe\">\n",
       "  <thead>\n",
       "    <tr style=\"text-align: right;\">\n",
       "      <th></th>\n",
       "      <th>Unnamed: 0</th>\n",
       "      <th>text</th>\n",
       "      <th>class</th>\n",
       "    </tr>\n",
       "  </thead>\n",
       "  <tbody>\n",
       "    <tr>\n",
       "      <th>0</th>\n",
       "      <td>2</td>\n",
       "      <td>Ex Wife Threatening SuicideRecently I left my ...</td>\n",
       "      <td>suicide</td>\n",
       "    </tr>\n",
       "    <tr>\n",
       "      <th>1</th>\n",
       "      <td>3</td>\n",
       "      <td>Am I weird I don't get affected by compliments...</td>\n",
       "      <td>non-suicide</td>\n",
       "    </tr>\n",
       "    <tr>\n",
       "      <th>2</th>\n",
       "      <td>4</td>\n",
       "      <td>Finally 2020 is almost over... So I can never ...</td>\n",
       "      <td>non-suicide</td>\n",
       "    </tr>\n",
       "    <tr>\n",
       "      <th>3</th>\n",
       "      <td>8</td>\n",
       "      <td>i need helpjust help me im crying so hard</td>\n",
       "      <td>suicide</td>\n",
       "    </tr>\n",
       "    <tr>\n",
       "      <th>4</th>\n",
       "      <td>9</td>\n",
       "      <td>I’m so lostHello, my name is Adam (16) and I’v...</td>\n",
       "      <td>suicide</td>\n",
       "    </tr>\n",
       "    <tr>\n",
       "      <th>...</th>\n",
       "      <td>...</td>\n",
       "      <td>...</td>\n",
       "      <td>...</td>\n",
       "    </tr>\n",
       "    <tr>\n",
       "      <th>116032</th>\n",
       "      <td>174354</td>\n",
       "      <td>Anyone wanna chat? Not sad or anything, just c...</td>\n",
       "      <td>non-suicide</td>\n",
       "    </tr>\n",
       "    <tr>\n",
       "      <th>116033</th>\n",
       "      <td>174355</td>\n",
       "      <td>I wish I was deadTW TW TW patriarchal dumpster...</td>\n",
       "      <td>suicide</td>\n",
       "    </tr>\n",
       "    <tr>\n",
       "      <th>116034</th>\n",
       "      <td>174356</td>\n",
       "      <td>I can't tell Am I depressed?\\n\\nAm I coming to...</td>\n",
       "      <td>non-suicide</td>\n",
       "    </tr>\n",
       "    <tr>\n",
       "      <th>116035</th>\n",
       "      <td>174357</td>\n",
       "      <td>Chat? Please help :/Been feeling really suicid...</td>\n",
       "      <td>suicide</td>\n",
       "    </tr>\n",
       "    <tr>\n",
       "      <th>116036</th>\n",
       "      <td>174358</td>\n",
       "      <td>I'm 16 and I feel like my girlfriend might be ...</td>\n",
       "      <td>suicide</td>\n",
       "    </tr>\n",
       "  </tbody>\n",
       "</table>\n",
       "<p>116037 rows × 3 columns</p>\n",
       "</div>"
      ]
     },
     "execution_count": 4,
     "metadata": {},
     "output_type": "execute_result"
    }
   ],
   "execution_count": 4
  },
  {
   "metadata": {},
   "cell_type": "markdown",
   "source": "## Очистка текста для модели, создание и обучение токенизатора",
   "id": "6018580211e08d0c"
  },
  {
   "metadata": {
    "ExecuteTime": {
     "end_time": "2025-07-16T07:01:14.138687Z",
     "start_time": "2025-07-16T07:00:58.235339Z"
    }
   },
   "cell_type": "code",
   "source": [
    "cleaned_train_text, train_text_length = clean_text(train_data.text) #\n",
    "cleaned_test_text, test_text_length = clean_text(test_data.text)\n",
    "\n",
    "# Токенизация и паддинг\n",
    "MAX_LEN = 50\n",
    "\n",
    "# Создаем и обучаем токенизатор\n",
    "tokenizer = PyTorchTokenizer()\n",
    "tokenizer.fit_on_texts(cleaned_train_text)\n",
    "\n",
    "train_text_seq = tokenizer.texts_to_sequences(cleaned_train_text)\n",
    "train_text_pad = np.array([np.pad(seq[:MAX_LEN], (0, max(0, MAX_LEN - len(seq))), 'constant', constant_values=0)\n",
    "                           for seq in train_text_seq])\n",
    "\n",
    "test_text_seq = tokenizer.texts_to_sequences(cleaned_test_text)\n",
    "test_text_pad = np.array([np.pad(seq[:MAX_LEN], (0, max(0, MAX_LEN - len(seq))), 'constant', constant_values=0)\n",
    "                          for seq in test_text_seq])\n",
    "\n",
    "torch.save(tokenizer, 'tokenizer_pytorch.pkl')\n",
    "\n",
    "# Кодирование меток\n",
    "lbl_target = LabelEncoder()\n",
    "train_output = lbl_target.fit_transform(train_data['class'])\n",
    "test_output = lbl_target.transform(test_data['class'])\n",
    "\n",
    "# Выводим преобразованные метки, чтобы убедиться\n",
    "print(\"\\nПример преобразованных меток (0 или 1):\")\n",
    "print(train_output[:10])\n",
    "print(f\"Классы: {lbl_target.classes_}\")"
   ],
   "id": "31d6ffbeec851f5f",
   "outputs": [
    {
     "name": "stdout",
     "output_type": "stream",
     "text": [
      "\n",
      "Пример преобразованных меток (0 или 1):\n",
      "[0 0 0 0 0 0 1 0 1 1]\n",
      "Классы: ['non-suicide' 'suicide']\n"
     ]
    }
   ],
   "execution_count": 5
  },
  {
   "metadata": {},
   "cell_type": "markdown",
   "source": "## Загрузка эмбендинга GloVe",
   "id": "1eea20f611bbfafe"
  },
  {
   "metadata": {
    "ExecuteTime": {
     "end_time": "2025-07-16T07:01:22.801794Z",
     "start_time": "2025-07-16T07:01:14.168690Z"
    }
   },
   "cell_type": "code",
   "source": [
    "# Загрузка GloVe\n",
    "glove_path = 'GloVe.pkl'\n",
    "\n",
    "with open(glove_path, 'rb') as fp:\n",
    "    glove_embedding = pickle.load(fp)\n",
    "\n",
    "# Создание матрицы эмбеддингов\n",
    "VOCAB_SIZE = len(tokenizer.word_index)\n",
    "EMBEDDING_DIM = 300 # Размерность GloVe эмбеддингов в файле - 300 измерений для 840 миллиардов токенов\n",
    "\n",
    "embedding_matrix = np.zeros((VOCAB_SIZE + 1, EMBEDDING_DIM), dtype=np.float32)\n",
    "for word, idx in tqdm(tokenizer.word_index.items(), desc=\"Создание матрицы эмбендингов\"):\n",
    "    embedding_vector = glove_embedding.get(word)\n",
    "    if embedding_vector is not None:\n",
    "        embedding_matrix[idx] = embedding_vector\n",
    "\n",
    "# Преобразование в тензор PyTorch\n",
    "embedding_matrix_tensor = torch.from_numpy(embedding_matrix).to(DEVICE)\n",
    "print(f\"\\nРазмер матрицы эмбеддингов: {embedding_matrix_tensor.shape}\")"
   ],
   "id": "8b8bbf8ac25e6f22",
   "outputs": [
    {
     "name": "stderr",
     "output_type": "stream",
     "text": [
      "Создание матрицы эмбендингов: 100%|██████████| 269066/269066 [00:00<00:00, 930772.25it/s]\n"
     ]
    },
    {
     "name": "stdout",
     "output_type": "stream",
     "text": [
      "\n",
      "Размер матрицы эмбеддингов: torch.Size([269067, 300])\n"
     ]
    }
   ],
   "execution_count": 6
  },
  {
   "metadata": {},
   "cell_type": "markdown",
   "source": "## Создание модели и даталоадеров",
   "id": "f90baca56ecaae44"
  },
  {
   "metadata": {
    "ExecuteTime": {
     "end_time": "2025-07-16T07:01:25.207637Z",
     "start_time": "2025-07-16T07:01:22.806793Z"
    }
   },
   "cell_type": "code",
   "source": [
    "# Параметры модели\n",
    "HIDDEN_DIM = 20 # Количество юнитов LSTM\n",
    "OUTPUT_DIM = 1  # Бинарная классификация\n",
    "\n",
    "model = TextClassifier(VOCAB_SIZE + 1, EMBEDDING_DIM, HIDDEN_DIM, OUTPUT_DIM,\n",
    "                       embedding_weights=embedding_matrix_tensor,\n",
    "                       trainable_embeddings=False)\n",
    "\n",
    "model.to(DEVICE) # Переносим модель на GPU, если доступно\n",
    "\n",
    "# Сводка модели\n",
    "print(\"\\n--- Сводка модели PyTorch ---\")\n",
    "print(model)\n",
    "def count_parameters(model):\n",
    "    return sum(p.numel() for p in model.parameters() if p.requires_grad)\n",
    "print(f\"Количество обучаемых параметров: {count_parameters(model):,}\")\n",
    "\n",
    "# Определение функции потерь и оптимизатора\n",
    "criterion = nn.BCELoss() # Binary Cross-Entropy Loss\n",
    "optimizer = AdamW(model.parameters(), lr=0.01)\n",
    "\n",
    "# Подготовка данных для PyTorch DataLoader\n",
    "train_text_tensor = torch.LongTensor(train_text_pad).to(DEVICE)\n",
    "train_output_tensor = torch.FloatTensor(train_output).unsqueeze(1).to(DEVICE) # Unsqueeze для согласования формы (N, 1)\n",
    "\n",
    "test_text_tensor = torch.LongTensor(test_text_pad).to(DEVICE)\n",
    "test_output_tensor = torch.FloatTensor(test_output).unsqueeze(1).to(DEVICE)\n",
    "\n",
    "# Создание TensorDataset и DataLoader\n",
    "BATCH_SIZE = 256\n",
    "train_dataset = TensorDataset(train_text_tensor, train_output_tensor)\n",
    "train_loader = DataLoader(train_dataset, batch_size=BATCH_SIZE, shuffle=True)\n",
    "\n",
    "test_dataset = TensorDataset(test_text_tensor, test_output_tensor)\n",
    "test_loader = DataLoader(test_dataset, batch_size=BATCH_SIZE, shuffle=False)"
   ],
   "id": "1af9e69abdac066e",
   "outputs": [
    {
     "name": "stdout",
     "output_type": "stream",
     "text": [
      "\n",
      "--- Сводка модели PyTorch ---\n",
      "TextClassifier(\n",
      "  (embedding): Embedding(269067, 300)\n",
      "  (lstm): LSTM(300, 20, batch_first=True)\n",
      "  (fc1): Linear(in_features=20, out_features=256, bias=True)\n",
      "  (relu): ReLU()\n",
      "  (fc2): Linear(in_features=256, out_features=1, bias=True)\n",
      "  (sigmoid): Sigmoid()\n",
      ")\n",
      "Количество обучаемых параметров: 31,393\n"
     ]
    }
   ],
   "execution_count": 7
  },
  {
   "metadata": {},
   "cell_type": "markdown",
   "source": "## Реализация EarlyStopping и Reduce LR, обучение модели",
   "id": "dbb105b125bdc073"
  },
  {
   "metadata": {
    "ExecuteTime": {
     "end_time": "2025-07-16T07:02:19.070742Z",
     "start_time": "2025-07-16T07:01:27.278877Z"
    }
   },
   "cell_type": "code",
   "source": [
    "# Ранняя остановка и Reduce Learning Rate\n",
    "\n",
    "PATIENCE_ES = 5 # patience для EarlyStopping\n",
    "PATIENCE_RLP = 3 # patience для Reduce Learning Rate\n",
    "FACTOR_RLP = 0.1 # Коэффициент уменьшения LR\n",
    "\n",
    "best_valid_loss = float('inf')\n",
    "epochs_no_improve_es = 0\n",
    "epochs_no_improve_rlp = 0\n",
    "current_lr = 0.1 # Начальный learning rate\n",
    "\n",
    "print(\"\\n--- Начало обучения ---\")\n",
    "N_EPOCHS = 20\n",
    "history = {'train_losses': [], 'train_accs': [], 'test_losses': [], 'test_accs': []}\n",
    "\n",
    "for epoch in range(N_EPOCHS):\n",
    "    train_loss, train_acc = train(model, train_loader, optimizer, criterion)\n",
    "    valid_loss, valid_acc = evaluate(model, test_loader, criterion) # Используем test_loader как validation_data\n",
    "\n",
    "    history['train_losses'].append(train_loss)\n",
    "    history['train_accs'].append(train_acc)\n",
    "    history['test_losses'].append(valid_loss)\n",
    "    history['test_accs'].append(valid_acc)\n",
    "\n",
    "    print(f'Эпоха: {epoch+1:02}')\n",
    "    print(f'\\tОбучение Потери: {train_loss:.3f} | Обучение Точность: {train_acc*100:.2f}%')\n",
    "    print(f'\\tВалидация Потери: {valid_loss:.3f} | Валидация Точность: {valid_acc*100:.2f}%')\n",
    "\n",
    "    # EarlyStopping\n",
    "    if valid_loss < best_valid_loss:\n",
    "        best_valid_loss = valid_loss\n",
    "        epochs_no_improve_es = 0\n",
    "        torch.save(model.state_dict(), 'best_model_pytorch.pt') # Сохраняем лучшую модель\n",
    "    else:\n",
    "        epochs_no_improve_es += 1\n",
    "        if epochs_no_improve_es == PATIENCE_ES:\n",
    "            print(f\"Ранняя остановка.\")\n",
    "            break\n",
    "\n",
    "    # Reduce Learning Rate\n",
    "    if epochs_no_improve_rlp >= PATIENCE_RLP:\n",
    "        epochs_no_improve_rlp = 0\n",
    "        new_lr = current_lr * FACTOR_RLP\n",
    "        for param_group in optimizer.param_groups:\n",
    "            param_group['lr'] = new_lr\n",
    "        current_lr = new_lr\n",
    "        print(f\"Learning Rate уменьшен до {current_lr:.6f}\")\n",
    "\n",
    "    # Сброс счетчика для Reduce Learning Rate, если было улучшение (но только если не сработала EarlyStopping)\n",
    "    # Если valid_loss улучшился, сбрасываем и счетчик RLP\n",
    "    if valid_loss < best_valid_loss and epochs_no_improve_es == 0: # Это условие уже проверяется выше, но для ясности\n",
    "        epochs_no_improve_rlp = 0\n",
    "    else:\n",
    "        epochs_no_improve_rlp += 1"
   ],
   "id": "4f569ce8db067d5d",
   "outputs": [
    {
     "name": "stdout",
     "output_type": "stream",
     "text": [
      "\n",
      "--- Начало обучения ---\n"
     ]
    },
    {
     "name": "stderr",
     "output_type": "stream",
     "text": [
      "Обучение: 100%|██████████| 726/726 [00:05<00:00, 131.98it/s]\n",
      "Оценка: 100%|██████████| 182/182 [00:00<00:00, 344.24it/s]\n"
     ]
    },
    {
     "name": "stdout",
     "output_type": "stream",
     "text": [
      "Эпоха: 01\n",
      "\tОбучение Потери: 0.163 | Обучение Точность: 93.55%\n",
      "\tВалидация Потери: 0.131 | Валидация Точность: 94.98%\n"
     ]
    },
    {
     "name": "stderr",
     "output_type": "stream",
     "text": [
      "Обучение: 100%|██████████| 726/726 [00:03<00:00, 194.79it/s]\n",
      "Оценка: 100%|██████████| 182/182 [00:00<00:00, 354.42it/s]\n"
     ]
    },
    {
     "name": "stdout",
     "output_type": "stream",
     "text": [
      "Эпоха: 02\n",
      "\tОбучение Потери: 0.112 | Обучение Точность: 95.73%\n",
      "\tВалидация Потери: 0.125 | Валидация Точность: 95.22%\n"
     ]
    },
    {
     "name": "stderr",
     "output_type": "stream",
     "text": [
      "Обучение: 100%|██████████| 726/726 [00:04<00:00, 164.52it/s]\n",
      "Оценка: 100%|██████████| 182/182 [00:00<00:00, 334.65it/s]\n"
     ]
    },
    {
     "name": "stdout",
     "output_type": "stream",
     "text": [
      "Эпоха: 03\n",
      "\tОбучение Потери: 0.104 | Обучение Точность: 96.05%\n",
      "\tВалидация Потери: 0.123 | Валидация Точность: 95.28%\n"
     ]
    },
    {
     "name": "stderr",
     "output_type": "stream",
     "text": [
      "Обучение: 100%|██████████| 726/726 [00:03<00:00, 192.55it/s]\n",
      "Оценка: 100%|██████████| 182/182 [00:00<00:00, 227.66it/s]\n"
     ]
    },
    {
     "name": "stdout",
     "output_type": "stream",
     "text": [
      "Эпоха: 04\n",
      "\tОбучение Потери: 0.098 | Обучение Точность: 96.28%\n",
      "\tВалидация Потери: 0.139 | Валидация Точность: 94.86%\n",
      "Learning Rate уменьшен до 0.010000\n"
     ]
    },
    {
     "name": "stderr",
     "output_type": "stream",
     "text": [
      "Обучение: 100%|██████████| 726/726 [00:04<00:00, 154.78it/s]\n",
      "Оценка: 100%|██████████| 182/182 [00:00<00:00, 289.30it/s]\n"
     ]
    },
    {
     "name": "stdout",
     "output_type": "stream",
     "text": [
      "Эпоха: 05\n",
      "\tОбучение Потери: 0.094 | Обучение Точность: 96.47%\n",
      "\tВалидация Потери: 0.121 | Валидация Точность: 95.54%\n"
     ]
    },
    {
     "name": "stderr",
     "output_type": "stream",
     "text": [
      "Обучение: 100%|██████████| 726/726 [00:04<00:00, 166.75it/s]\n",
      "Оценка: 100%|██████████| 182/182 [00:00<00:00, 274.40it/s]\n"
     ]
    },
    {
     "name": "stdout",
     "output_type": "stream",
     "text": [
      "Эпоха: 06\n",
      "\tОбучение Потери: 0.090 | Обучение Точность: 96.58%\n",
      "\tВалидация Потери: 0.157 | Валидация Точность: 94.42%\n"
     ]
    },
    {
     "name": "stderr",
     "output_type": "stream",
     "text": [
      "Обучение: 100%|██████████| 726/726 [00:04<00:00, 173.78it/s]\n",
      "Оценка: 100%|██████████| 182/182 [00:00<00:00, 294.51it/s]\n"
     ]
    },
    {
     "name": "stdout",
     "output_type": "stream",
     "text": [
      "Эпоха: 07\n",
      "\tОбучение Потери: 0.087 | Обучение Точность: 96.67%\n",
      "\tВалидация Потери: 0.129 | Валидация Точность: 95.25%\n",
      "Learning Rate уменьшен до 0.001000\n"
     ]
    },
    {
     "name": "stderr",
     "output_type": "stream",
     "text": [
      "Обучение: 100%|██████████| 726/726 [00:04<00:00, 173.24it/s]\n",
      "Оценка: 100%|██████████| 182/182 [00:00<00:00, 288.89it/s]\n"
     ]
    },
    {
     "name": "stdout",
     "output_type": "stream",
     "text": [
      "Эпоха: 08\n",
      "\tОбучение Потери: 0.071 | Обучение Точность: 97.37%\n",
      "\tВалидация Потери: 0.139 | Валидация Точность: 95.25%\n"
     ]
    },
    {
     "name": "stderr",
     "output_type": "stream",
     "text": [
      "Обучение: 100%|██████████| 726/726 [00:04<00:00, 161.06it/s]\n",
      "Оценка: 100%|██████████| 182/182 [00:00<00:00, 270.38it/s]\n"
     ]
    },
    {
     "name": "stdout",
     "output_type": "stream",
     "text": [
      "Эпоха: 09\n",
      "\tОбучение Потери: 0.064 | Обучение Точность: 97.67%\n",
      "\tВалидация Потери: 0.141 | Валидация Точность: 95.30%\n"
     ]
    },
    {
     "name": "stderr",
     "output_type": "stream",
     "text": [
      "Обучение: 100%|██████████| 726/726 [00:04<00:00, 171.73it/s]\n",
      "Оценка: 100%|██████████| 182/182 [00:00<00:00, 289.10it/s]"
     ]
    },
    {
     "name": "stdout",
     "output_type": "stream",
     "text": [
      "Эпоха: 10\n",
      "\tОбучение Потери: 0.060 | Обучение Точность: 97.84%\n",
      "\tВалидация Потери: 0.146 | Валидация Точность: 95.13%\n",
      "Ранняя остановка.\n"
     ]
    },
    {
     "name": "stderr",
     "output_type": "stream",
     "text": [
      "\n"
     ]
    }
   ],
   "execution_count": 8
  },
  {
   "metadata": {},
   "cell_type": "markdown",
   "source": "## Оценка обучения модели, тестирование на пробных данных",
   "id": "8d2d31e08bf56898"
  },
  {
   "metadata": {
    "ExecuteTime": {
     "end_time": "2025-07-16T07:02:22.060217Z",
     "start_time": "2025-07-16T07:02:20.843721Z"
    }
   },
   "cell_type": "code",
   "source": [
    "# Загружаем лучшую модель для оценки\n",
    "model.load_state_dict(torch.load('best_model_pytorch.pt'))\n",
    "\n",
    "# --- Предсказания и отчеты по классификации ---\n",
    "def get_predictions(model, loader):\n",
    "    model.eval()\n",
    "    all_preds = []\n",
    "    with torch.no_grad():\n",
    "        for text, _ in loader:\n",
    "            predictions = model(text).squeeze(1)\n",
    "            rounded_preds = torch.round(predictions)\n",
    "            all_preds.extend(rounded_preds.cpu().numpy())\n",
    "    return np.array(all_preds)\n",
    "\n",
    "test_predictions = get_predictions(model, test_loader)\n",
    "print(classification_report(test_output, test_predictions, target_names=lbl_target.classes_))\n",
    "\n",
    "plot_training_history(history)"
   ],
   "id": "b3a64326de705cc3",
   "outputs": [
    {
     "name": "stdout",
     "output_type": "stream",
     "text": [
      "              precision    recall  f1-score   support\n",
      "\n",
      " non-suicide       0.95      0.96      0.96     23207\n",
      "     suicide       0.96      0.95      0.96     23208\n",
      "\n",
      "    accuracy                           0.96     46415\n",
      "   macro avg       0.96      0.96      0.96     46415\n",
      "weighted avg       0.96      0.96      0.96     46415\n",
      "\n"
     ]
    },
    {
     "data": {
      "text/plain": [
       "<Figure size 1200x400 with 2 Axes>"
      ],
      "image/png": "[encoded data removed]"
     },
     "metadata": {},
     "output_type": "display_data"
    }
   ],
   "execution_count": 9
  },
  {
   "metadata": {
    "ExecuteTime": {
     "end_time": "2025-07-16T07:06:26.969887Z",
     "start_time": "2025-07-16T07:06:26.958210Z"
    }
   },
   "cell_type": "code",
   "source": [
    "# Тестирование на новом тексте\n",
    "def predict_sentiment(text, model, tokenizer, max_len, label_encoder, device):\n",
    "    cleaned_text, _ = clean_text([text])\n",
    "    sequence = tokenizer.texts_to_sequences(cleaned_text)\n",
    "    padded_sequence = np.array([np.pad(seq[:max_len], (0, max(0, max_len - len(seq))), 'constant', constant_values=0)\n",
    "                                for seq in sequence])\n",
    "\n",
    "    input_tensor = torch.LongTensor(padded_sequence).to(device)\n",
    "\n",
    "    model.eval()\n",
    "    with torch.no_grad():\n",
    "        prediction = model(input_tensor).item()\n",
    "\n",
    "    print(f\"\\nПредсказанная вероятность: {prediction:.4f}\")\n",
    "\n",
    "    if prediction > 0.5:\n",
    "        print(\"Есть признаки депрессивного поведения.\")\n",
    "    else:\n",
    "        print(\"Признаков депрессии нет.\")\n",
    "\n",
    "    return prediction\n",
    "\n",
    "# Пример 1\n",
    "twt_1 = [\"I'm a lonely 22 year old guy and feeling like a loser with no future.I'm 22 and feel all alone and I am very insecure about myself. I'm a fat 6'3'' 260 pound guy with a really small 5.5 inch penis. I have no gf or any experience with girls cause I feel too ugly and I think they will laugh at my size.\"]\n",
    "predict_sentiment(twt_1[0], model, tokenizer, MAX_LEN, lbl_target, DEVICE)\n",
    "\n",
    "# Пример 2\n",
    "twt_2 = [\"my school sucks. i try not to litter, but it feels impossible because even when i bring a reusable mask, the school requires two disposable masks. i can't give them away, i can't do anything with them, and two of my siblings go to the same school. if i do the math, that's like 30 disposable masks a week. i hate it.\"]\n",
    "predict_sentiment(twt_2[0], model, tokenizer, MAX_LEN, lbl_target, DEVICE)"
   ],
   "id": "d25a36061b914bce",
   "outputs": [
    {
     "name": "stdout",
     "output_type": "stream",
     "text": [
      "\n",
      "Предсказанная вероятность: 0.8140\n",
      "Есть признаки депрессивного поведения.\n",
      "\n",
      "Предсказанная вероятность: 0.0008\n",
      "Признаков депрессии нет.\n"
     ]
    },
    {
     "data": {
      "text/plain": [
       "0.0008094141958281398"
      ]
     },
     "execution_count": 16,
     "metadata": {},
     "output_type": "execute_result"
    }
   ],
   "execution_count": 16
  }
 ],
 "metadata": {
  "kernelspec": {
   "display_name": "Python 3",
   "language": "python",
   "name": "python3"
  },
  "language_info": {
   "codemirror_mode": {
    "name": "ipython",
    "version": 2
   },
   "file_extension": ".py",
   "mimetype": "text/x-python",
   "name": "python",
   "nbconvert_exporter": "python",
   "pygments_lexer": "ipython2",
   "version": "2.7.6"
  }
 },
 "nbformat": 4,
 "nbformat_minor": 5
}
